{
 "cells": [
  {
   "cell_type": "code",
   "execution_count": 75,
   "metadata": {},
   "outputs": [],
   "source": [
    "import networkx as nx\n",
    "from node2vec import Node2Vec\n",
    "import gzip\n",
    "import json\n",
    "import pandas as pd\n",
    "import numpy as np\n",
    "import matplotlib.pyplot as plt\n",
    "import seaborn as sns\n",
    "from scipy.sparse import coo_matrix\n",
    "import torch\n",
    "import torch.nn.functional as F\n",
    "from torch.nn import Parameter\n",
    "from torch_geometric.nn import MessagePassing\n",
    "from torch_geometric.utils import add_self_loops, softmax\n",
    "from torch_geometric.data import Data\n",
    "from sklearn.preprocessing import OneHotEncoder\n",
    "from sklearn.preprocessing import MinMaxScaler\n",
    "from torch_geometric.nn import GCNConv, MessagePassing\n",
    "from torch_geometric.utils import add_self_loops, degree\n",
    "import torch\n",
    "import torch.nn.functional as F\n",
    "from torch.nn import Parameter\n",
    "from torch_geometric.nn import MessagePassing\n",
    "from torch_geometric.utils import add_self_loops, softmax"
   ]
  },
  {
   "cell_type": "code",
   "execution_count": null,
   "metadata": {},
   "outputs": [],
   "source": []
  },
  {
   "cell_type": "code",
   "execution_count": 76,
   "metadata": {},
   "outputs": [],
   "source": [
    "# feature engineering for 13 files\n",
    "datas = []\n",
    "for i in range(1, 14):\n",
    "    new_instances = pd.read_csv(str(i) + '_new_instances.csv')\n",
    "    edge_index = np.loadtxt(str(i) +'_edge_index.csv', delimiter=',')\n",
    "    # normalize xloc, yloc, congestion, width, height\n",
    "    # use one hot encoding for orient\n",
    "    onehotencoder = OneHotEncoder()\n",
    "    orient = onehotencoder.fit_transform(new_instances[['orient']]).toarray()\n",
    "\n",
    "    scaler = MinMaxScaler()\n",
    "    node_features = scaler.fit_transform(new_instances[['xloc', 'yloc', 'width', 'GRC_density', 'node_degree']])\n",
    "    node_features = np.concatenate((node_features, orient), axis=1)\n",
    "    demand = new_instances[['routing_demand']].values\n",
    "    edge_index = torch.tensor(edge_index, dtype=torch.long)\n",
    "    x = torch.tensor(node_features, dtype=torch.float)\n",
    "    y = torch.tensor(demand, dtype=torch.float)\n",
    "\n",
    "    data = Data(x=x, edge_index=edge_index, y=y)\n",
    "    datas.append(data)\n"
   ]
  },
  {
   "cell_type": "code",
   "execution_count": 77,
   "metadata": {},
   "outputs": [
    {
     "data": {
      "text/plain": [
       "[Data(x=[3952, 9], edge_index=[2, 141472], y=[3952, 1]),\n",
       " Data(x=[6872, 9], edge_index=[2, 115420], y=[6872, 1]),\n",
       " Data(x=[6913, 9], edge_index=[2, 126081], y=[6913, 1]),\n",
       " Data(x=[7323, 9], edge_index=[2, 120929], y=[7323, 1]),\n",
       " Data(x=[7258, 9], edge_index=[2, 121094], y=[7258, 1]),\n",
       " Data(x=[7120, 9], edge_index=[2, 116592], y=[7120, 1]),\n",
       " Data(x=[7879, 9], edge_index=[2, 122335], y=[7879, 1]),\n",
       " Data(x=[7626, 9], edge_index=[2, 119388], y=[7626, 1]),\n",
       " Data(x=[7620, 9], edge_index=[2, 119652], y=[7620, 1]),\n",
       " Data(x=[7772, 9], edge_index=[2, 121838], y=[7772, 1]),\n",
       " Data(x=[7814, 9], edge_index=[2, 115804], y=[7814, 1]),\n",
       " Data(x=[6529, 9], edge_index=[2, 115553], y=[6529, 1]),\n",
       " Data(x=[6548, 9], edge_index=[2, 113626], y=[6548, 1])]"
      ]
     },
     "execution_count": 77,
     "metadata": {},
     "output_type": "execute_result"
    }
   ],
   "source": [
    "datas"
   ]
  },
  {
   "cell_type": "code",
   "execution_count": 78,
   "metadata": {},
   "outputs": [],
   "source": [
    "# set of GCN\n",
    "\n",
    "class GCN(torch.nn.Module):\n",
    "    def __init__(self, in_channels, hidden_channels, out_channels, dropout=0.6):\n",
    "        super(GCN, self).__init__()\n",
    "        self.conv1 = GCNConv(in_channels, hidden_channels)\n",
    "        self.conv2 = GCNConv(hidden_channels, hidden_channels)\n",
    "        self.conv3 = GCNConv(hidden_channels, out_channels)\n",
    "        self.dropout = dropout\n",
    "\n",
    "    def forward(self, data):\n",
    "        x, edge_index = data.x, data.edge_index\n",
    "\n",
    "        # Add self-loops to the edge_index\n",
    "        edge_index, _ = add_self_loops(edge_index, num_nodes=x.size(0))\n",
    "\n",
    "        x = F.relu(self.conv1(x, edge_index))\n",
    "        # x = F.dropout(x, p=self.dropout, training=self.training)\n",
    "        x = F.relu(self.conv2(x, edge_index))\n",
    "        # x = F.dropout(x, p=self.dropout, training=self.training)\n",
    "        x = self.conv3(x, edge_index)\n",
    "\n",
    "        return x"
   ]
  },
  {
   "cell_type": "code",
   "execution_count": 79,
   "metadata": {},
   "outputs": [],
   "source": [
    "class GATConv(MessagePassing):\n",
    "    def __init__(self, in_channels, out_channels, heads=1, concat=True, dropout=0.6):\n",
    "        super(GATConv, self).__init__(node_dim=0, aggr='add')  # \"Add\" aggregation.\n",
    "        self.in_channels = in_channels\n",
    "        self.out_channels = out_channels\n",
    "        self.heads = heads\n",
    "        self.concat = concat\n",
    "        self.dropout = dropout\n",
    "\n",
    "        # Linear transformation matrices\n",
    "        self.weight = Parameter(torch.Tensor(in_channels, heads * out_channels))\n",
    "        # Attention coefficients\n",
    "        self.attention = Parameter(torch.Tensor(1, heads, 2 * out_channels))\n",
    "\n",
    "        self.reset_parameters()\n",
    "\n",
    "    def reset_parameters(self):\n",
    "        torch.nn.init.xavier_uniform_(self.weight)\n",
    "        torch.nn.init.xavier_uniform_(self.attention)\n",
    "\n",
    "    def forward(self, x, edge_index):\n",
    "        x = torch.mm(x, self.weight).view(-1, self.heads, self.out_channels)\n",
    "        edge_index, _ = add_self_loops(edge_index, num_nodes=x.size(0))\n",
    "        return self.propagate(edge_index, x=x, size=None)\n",
    "\n",
    "    def message(self, edge_index_i, x_i, x_j, size_i):\n",
    "        # Compute attention coefficients\n",
    "        x = torch.cat([x_i, x_j], dim=-1)\n",
    "        alpha = (x * self.attention).sum(dim=-1)\n",
    "        alpha = F.leaky_relu(alpha, 0.2)\n",
    "        alpha = softmax(alpha, edge_index_i, num_nodes=size_i)\n",
    "\n",
    "        # Sample dropout for attention coefficients\n",
    "        alpha = F.dropout(alpha, p=self.dropout, training=self.training)\n",
    "\n",
    "        return x_j * alpha.view(-1, self.heads, 1)\n",
    "\n",
    "    def update(self, aggr_out):\n",
    "        if self.concat:\n",
    "            aggr_out = aggr_out.view(-1, self.heads * self.out_channels)\n",
    "        else:\n",
    "            aggr_out = aggr_out.mean(dim=1)\n",
    "        return aggr_out\n",
    "\n",
    "class GAT(torch.nn.Module):\n",
    "    def __init__(self, in_channels, hidden_channels, out_channels, heads=1, dropout=0.6):\n",
    "        super(GAT, self).__init__()\n",
    "        self.conv1 = GATConv(in_channels, hidden_channels, heads=heads, dropout=dropout)\n",
    "        self.conv2 = GATConv(hidden_channels * heads, hidden_channels, heads=heads, dropout=dropout)\n",
    "        self.conv3 = GATConv(hidden_channels * heads, out_channels, heads=1, concat=False, dropout=dropout)\n",
    "\n",
    "    def forward(self, data):\n",
    "        x, edge_index = data.x, data.edge_index\n",
    "        # x = F.dropout(x, p=0.6, training=self.training)\n",
    "        x = F.elu(self.conv1(x, edge_index))\n",
    "        # x = F.dropout(x, p=0.6, training=self.training)\n",
    "        x = F.elu(self.conv2(x, edge_index))\n",
    "        # x = F.dropout(x, p=0.6, training=self.training)\n",
    "        x = self.conv3(x, edge_index)\n",
    "        return x"
   ]
  },
  {
   "cell_type": "code",
   "execution_count": 80,
   "metadata": {},
   "outputs": [],
   "source": [
    "gcn_vloss_lst = []\n",
    "gcn_tloss_lst = []\n",
    "gat_vloss_lst = []\n",
    "gat_tloss_lst = []\n",
    "gcn_testloss_lst = []\n",
    "gat_testloss_lst = []\n",
    "gcn_rmse_lst = []\n",
    "gat_rmse_lst = []\n",
    "gcn_pearson_lst = []\n",
    "gat_pearson_lst = []\n",
    "gcn_kendall_lst = []\n",
    "gat_kendall_lst = []\n",
    "naive_mse_lst = [] "
   ]
  },
  {
   "cell_type": "code",
   "execution_count": 81,
   "metadata": {},
   "outputs": [
    {
     "data": {
      "text/plain": [
       "3952"
      ]
     },
     "execution_count": 81,
     "metadata": {},
     "output_type": "execute_result"
    }
   ],
   "source": [
    "len(datas[0].x)"
   ]
  },
  {
   "cell_type": "code",
   "execution_count": 82,
   "metadata": {},
   "outputs": [
    {
     "data": {
      "text/plain": [
       "Data(x=[3952, 9], edge_index=[2, 141472], y=[3952, 1])"
      ]
     },
     "execution_count": 82,
     "metadata": {},
     "output_type": "execute_result"
    }
   ],
   "source": [
    "datas[0]"
   ]
  },
  {
   "cell_type": "code",
   "execution_count": 83,
   "metadata": {},
   "outputs": [
    {
     "name": "stdout",
     "output_type": "stream",
     "text": [
      "1\n",
      "2\n",
      "3\n",
      "4\n",
      "5\n",
      "6\n",
      "7\n",
      "8\n",
      "9\n",
      "10\n"
     ]
    },
    {
     "name": "stderr",
     "output_type": "stream",
     "text": [
      "/var/folders/xr/wgz5b_6j3_b9vqkkp2559mvw0000gn/T/ipykernel_57741/2353494732.py:122: RuntimeWarning: More than 20 figures have been opened. Figures created through the pyplot interface (`matplotlib.pyplot.figure`) are retained until explicitly closed and may consume too much memory. (To control this warning, see the rcParam `figure.max_open_warning`).\n",
      "  plt.figure(figsize=(10, 5))\n"
     ]
    },
    {
     "name": "stdout",
     "output_type": "stream",
     "text": [
      "11\n",
      "12\n",
      "13\n"
     ]
    },
    {
     "data": {
      "text/plain": [
       "<Figure size 640x480 with 0 Axes>"
      ]
     },
     "metadata": {},
     "output_type": "display_data"
    },
    {
     "data": {
      "text/plain": [
       "<Figure size 1000x500 with 0 Axes>"
      ]
     },
     "metadata": {},
     "output_type": "display_data"
    },
    {
     "data": {
      "text/plain": [
       "<Figure size 1000x500 with 0 Axes>"
      ]
     },
     "metadata": {},
     "output_type": "display_data"
    },
    {
     "data": {
      "text/plain": [
       "<Figure size 1000x500 with 0 Axes>"
      ]
     },
     "metadata": {},
     "output_type": "display_data"
    },
    {
     "data": {
      "text/plain": [
       "<Figure size 1000x500 with 0 Axes>"
      ]
     },
     "metadata": {},
     "output_type": "display_data"
    },
    {
     "data": {
      "text/plain": [
       "<Figure size 1000x500 with 0 Axes>"
      ]
     },
     "metadata": {},
     "output_type": "display_data"
    },
    {
     "data": {
      "text/plain": [
       "<Figure size 1000x500 with 0 Axes>"
      ]
     },
     "metadata": {},
     "output_type": "display_data"
    },
    {
     "data": {
      "text/plain": [
       "<Figure size 1000x500 with 0 Axes>"
      ]
     },
     "metadata": {},
     "output_type": "display_data"
    },
    {
     "data": {
      "text/plain": [
       "<Figure size 1000x500 with 0 Axes>"
      ]
     },
     "metadata": {},
     "output_type": "display_data"
    },
    {
     "data": {
      "text/plain": [
       "<Figure size 1000x500 with 0 Axes>"
      ]
     },
     "metadata": {},
     "output_type": "display_data"
    },
    {
     "data": {
      "text/plain": [
       "<Figure size 1000x500 with 0 Axes>"
      ]
     },
     "metadata": {},
     "output_type": "display_data"
    },
    {
     "data": {
      "text/plain": [
       "<Figure size 1000x500 with 0 Axes>"
      ]
     },
     "metadata": {},
     "output_type": "display_data"
    },
    {
     "data": {
      "text/plain": [
       "<Figure size 1000x500 with 0 Axes>"
      ]
     },
     "metadata": {},
     "output_type": "display_data"
    },
    {
     "data": {
      "text/plain": [
       "<Figure size 1000x500 with 0 Axes>"
      ]
     },
     "metadata": {},
     "output_type": "display_data"
    },
    {
     "data": {
      "text/plain": [
       "<Figure size 1000x500 with 0 Axes>"
      ]
     },
     "metadata": {},
     "output_type": "display_data"
    },
    {
     "data": {
      "text/plain": [
       "<Figure size 1000x500 with 0 Axes>"
      ]
     },
     "metadata": {},
     "output_type": "display_data"
    },
    {
     "data": {
      "text/plain": [
       "<Figure size 1000x500 with 0 Axes>"
      ]
     },
     "metadata": {},
     "output_type": "display_data"
    },
    {
     "data": {
      "text/plain": [
       "<Figure size 1000x500 with 0 Axes>"
      ]
     },
     "metadata": {},
     "output_type": "display_data"
    },
    {
     "data": {
      "text/plain": [
       "<Figure size 1000x500 with 0 Axes>"
      ]
     },
     "metadata": {},
     "output_type": "display_data"
    },
    {
     "data": {
      "text/plain": [
       "<Figure size 1000x500 with 0 Axes>"
      ]
     },
     "metadata": {},
     "output_type": "display_data"
    },
    {
     "data": {
      "text/plain": [
       "<Figure size 1000x500 with 0 Axes>"
      ]
     },
     "metadata": {},
     "output_type": "display_data"
    },
    {
     "data": {
      "text/plain": [
       "<Figure size 1000x500 with 0 Axes>"
      ]
     },
     "metadata": {},
     "output_type": "display_data"
    },
    {
     "data": {
      "text/plain": [
       "<Figure size 1000x500 with 0 Axes>"
      ]
     },
     "metadata": {},
     "output_type": "display_data"
    },
    {
     "data": {
      "text/plain": [
       "<Figure size 1000x500 with 0 Axes>"
      ]
     },
     "metadata": {},
     "output_type": "display_data"
    },
    {
     "data": {
      "text/plain": [
       "<Figure size 1000x500 with 0 Axes>"
      ]
     },
     "metadata": {},
     "output_type": "display_data"
    },
    {
     "data": {
      "text/plain": [
       "<Figure size 1000x500 with 0 Axes>"
      ]
     },
     "metadata": {},
     "output_type": "display_data"
    },
    {
     "data": {
      "image/png": "[encoded data removed]",
      "text/plain": [
       "<Figure size 1000x500 with 1 Axes>"
      ]
     },
     "metadata": {},
     "output_type": "display_data"
    }
   ],
   "source": [
    "# set random seed\n",
    "i = 1\n",
    "for data in datas:\n",
    "    print(i)\n",
    "    torch.manual_seed(0)\n",
    "\n",
    "    num_nodes =  len(data.x)\n",
    "    train_size = int(num_nodes * 0.8)  # Let's say 80% for training\n",
    "    val_size = int(num_nodes * 0.1)  # 10% for validation\n",
    "\n",
    "    # Create a random permutation of node indices\n",
    "    perm = torch.randperm(num_nodes)\n",
    "\n",
    "    # Use the first 80% of randomly permuted indices for training\n",
    "    train_mask = torch.zeros(num_nodes, dtype=torch.bool)\n",
    "    train_mask[perm[:train_size]] = True\n",
    "\n",
    "    # Next 10% for validation\n",
    "    val_mask = torch.zeros(num_nodes, dtype=torch.bool)\n",
    "    val_mask[perm[train_size:train_size+val_size]] = True\n",
    "\n",
    "    # Last 10% for testing\n",
    "    test_mask = torch.zeros(num_nodes, dtype=torch.bool)\n",
    "    test_mask[perm[train_size+val_size:]] = True\n",
    "\n",
    "    # Assign masks to your data object\n",
    "    data.train_mask = train_mask\n",
    "    data.val_mask = val_mask\n",
    "    data.test_mask = test_mask\n",
    "\n",
    "    #GCN model\n",
    "    device = torch.device('cuda' if torch.cuda.is_available() else 'cpu')\n",
    "    GCN_model = GCN(in_channels=9, hidden_channels=9, out_channels=1, dropout=0).to(device)\n",
    "    GCN_optimizer = torch.optim.Adam(GCN_model.parameters(), lr=0.005, weight_decay=5e-4)\n",
    "\n",
    "    GCN_loss_values = []\n",
    "    GCN_valid_loss_values = []\n",
    "\n",
    "    GCN_model.train()\n",
    "    for epoch in range(300):\n",
    "        GCN_optimizer.zero_grad()\n",
    "        GCN_out = GCN_model(data)\n",
    "        GCN_loss = F.mse_loss(GCN_out[data.train_mask], data.y[data.train_mask])\n",
    "        GCN_valid_loss = F.mse_loss(GCN_out[data.val_mask], data.y[data.val_mask])\n",
    "        GCN_loss.backward()\n",
    "        GCN_optimizer.step()\n",
    "        GCN_loss_values.append(GCN_loss.item())\n",
    "        GCN_valid_loss_values.append(GCN_valid_loss.item())\n",
    "        # print(f'Epoch {epoch+1}, Loss: {GCN_loss.item()}')\n",
    "    gcn_vloss_lst.append(GCN_valid_loss_values[-1])\n",
    "    gcn_tloss_lst.append(GCN_loss_values[-1])\n",
    "\n",
    "    #GAT model\n",
    "    device = torch.device('cuda' if torch.cuda.is_available() else 'cpu')\n",
    "    GAT_model = GAT(in_channels=9, hidden_channels=9, out_channels=1, heads=9, dropout=0).to(device)\n",
    "    GAT_optimizer = torch.optim.Adam(GAT_model.parameters(), lr=0.005, weight_decay=5e-4)\n",
    "\n",
    "    GAT_loss_values = []\n",
    "    GAT_valid_loss_values = []\n",
    "\n",
    "    GAT_model.train()\n",
    "    for epoch in range(300):\n",
    "        GAT_optimizer.zero_grad()\n",
    "        GAT_out = GAT_model(data)\n",
    "        GAT_loss = F.mse_loss(GAT_out[data.train_mask], data.y[data.train_mask])\n",
    "        GAT_valid_loss = F.mse_loss(GAT_out[data.val_mask], data.y[data.val_mask])\n",
    "        GAT_loss.backward()\n",
    "        GAT_optimizer.step()\n",
    "        GAT_loss_values.append(GAT_loss.item())\n",
    "        GAT_valid_loss_values.append(GAT_valid_loss.item())\n",
    "        # print(f'Epoch {epoch+1}, Loss: {GAT_loss.item()}')\n",
    "    gat_vloss_lst.append(GAT_valid_loss_values[-1])\n",
    "    gat_tloss_lst.append(GAT_loss_values[-1])\n",
    "\n",
    "    plt.clf()\n",
    "    plt.plot(GCN_loss_values, label='Training Loss', color='blue', alpha=0.5)\n",
    "    plt.plot(GCN_valid_loss_values, label='Validation Loss', color='red', alpha=0.5)\n",
    "    plt.xlabel('Epoch')\n",
    "    plt.ylabel('Loss')\n",
    "    plt.title(f'GCN Training and Validation Loss {i}')\n",
    "    plt.legend()\n",
    "    plt.savefig(f\"GCN_TV_loss/{i}.pdf\")\n",
    "    # plt.show()\n",
    "\n",
    "\n",
    "    plt.clf()\n",
    "    plt.plot(GAT_loss_values, label='Training Loss', color='blue', alpha=0.5)\n",
    "    plt.plot(GAT_valid_loss_values, label='Validation Loss', color='red', alpha=0.5)\n",
    "    plt.xlabel('Epoch')\n",
    "    plt.ylabel('Loss')\n",
    "    plt.title(f'GAT Training and Validation Loss {i}')\n",
    "    plt.legend()\n",
    "    plt.savefig(f\"GAT_TV_loss/{i}.pdf\")\n",
    "    # plt.show()\n",
    "\n",
    "    # Evaluate the model\n",
    "    GCN_model.eval()\n",
    "    GCN_out = GCN_model(data)\n",
    "    GCN_loss = F.mse_loss(GCN_out[data.test_mask], data.y[data.test_mask])\n",
    "    # print(f'GCN_Test Loss: {GCN_loss.item()}')\n",
    "    gcn_testloss_lst.append(GCN_loss)\n",
    "    \n",
    "    GAT_model.eval()\n",
    "    GAT_out = GAT_model(data)\n",
    "    GAT_loss = F.mse_loss(GAT_out[data.test_mask], data.y[data.test_mask])\n",
    "    # print(f'GAT_Test Loss: {GAT_loss.item()}')\n",
    "    gat_testloss_lst.append(GAT_loss)\n",
    "\n",
    "    # plot the distribution of original congestion and predicted congestion\n",
    "    plt.clf()\n",
    "    plt.figure(figsize=(10, 5))\n",
    "    sns.histplot(data.y[data.test_mask].cpu().detach().numpy(), kde=True, label='Ground Truth Demand', stat=\"density\", color='blue')\n",
    "    sns.histplot(GCN_out[data.test_mask].cpu().detach().numpy().flatten(), kde=True, label='Predicted Demand', stat=\"density\", color='red')\n",
    "    plt.xlabel('Demand')\n",
    "    plt.ylabel('Frequency')\n",
    "    plt.title(f'GCN Prediction vs Ground Truth {i}')\n",
    "    plt.legend()\n",
    "    plt.savefig(f\"GCN_hist/{i}.pdf\")\n",
    "    # plt.show()\n",
    "\n",
    "    plt.clf()\n",
    "    plt.figure(figsize=(10, 5))\n",
    "    sns.histplot(data.y[data.test_mask].cpu().detach().numpy(), kde=True, label='Ground Truth Demand', stat=\"density\", color='blue')\n",
    "    sns.histplot(GAT_out[data.test_mask].cpu().detach().numpy().flatten(), kde=True, label='Predicted Demand', stat=\"density\", color='red')\n",
    "    plt.xlabel('Congestion')\n",
    "    plt.ylabel('Frequency')\n",
    "    plt.title(f'GAT Prediction vs Ground Truth {i}')\n",
    "    plt.legend()\n",
    "    plt.savefig(f\"GAT_hist/{i}.pdf\")\n",
    "    # plt.show()\n",
    "\n",
    "    plt.clf()\n",
    "    plt.scatter(data.y[data.test_mask].cpu().detach().numpy(), GCN_out[data.test_mask].cpu().detach().numpy(), alpha=0.5)\n",
    "    plt.xlabel('Ground Truth Demand')\n",
    "    plt.ylabel('Predicted Demand')\n",
    "    plt.title(f'GCN Prediction vs Ground Truth {i}')\n",
    "    plt.savefig(f\"GCN_scatter/{i}.pdf\")\n",
    "    # plt.show()\n",
    "\n",
    "    plt.clf()\n",
    "    plt.scatter(data.y[data.test_mask].cpu().detach().numpy(), GAT_out[data.test_mask].cpu().detach().numpy(), alpha=0.5)\n",
    "    plt.xlabel('Ground Truth Demand')\n",
    "    plt.ylabel('Predicted Demand')\n",
    "    plt.title(f'GAT Prediction vs Ground Truth {i}')\n",
    "    plt.savefig(f\"GAT_scatter/{i}.pdf\")\n",
    "\n",
    "    # calculate Pearson correlation coefficient, kendall correlation coefficient, and test RMSE\n",
    "    from sklearn.metrics import mean_squared_error\n",
    "    from scipy.stats import pearsonr, kendalltau\n",
    "\n",
    "    GCN_rmse = mean_squared_error(data.y[data.test_mask].cpu().detach().numpy(), GCN_out[data.test_mask].cpu().detach().numpy(), squared=False)\n",
    "    GAT_rmse = mean_squared_error(data.y[data.test_mask].cpu().detach().numpy(), GAT_out[data.test_mask].cpu().detach().numpy(), squared=False)\n",
    "    gcn_rmse_lst.append(GCN_rmse)\n",
    "    gat_rmse_lst.append(GAT_rmse)\n",
    "    \n",
    "    GCN_pearson = pearsonr(data.y[data.test_mask].cpu().detach().numpy().flatten(), GCN_out[data.test_mask].cpu().detach().numpy().flatten())\n",
    "    GAT_pearson = pearsonr(data.y[data.test_mask].cpu().detach().numpy().flatten(), GAT_out[data.test_mask].cpu().detach().numpy().flatten())\n",
    "    gcn_pearson_lst.append(GCN_pearson)\n",
    "    gat_pearson_lst.append(GAT_pearson)\n",
    "\n",
    "    GCN_kendall = kendalltau(data.y[data.test_mask].cpu().detach().numpy().flatten(), GCN_out[data.test_mask].cpu().detach().numpy().flatten())\n",
    "    GAT_kendall = kendalltau(data.y[data.test_mask].cpu().detach().numpy().flatten(), GAT_out[data.test_mask].cpu().detach().numpy().flatten())\n",
    "    gcn_kendall_lst.append(GCN_kendall)\n",
    "    gat_kendall_lst.append(GAT_kendall)\n",
    "\n",
    "    # print(f'GCN RMSE: {GCN_rmse}')\n",
    "    # print(f'GAT RMSE: {GAT_rmse}')\n",
    "    # print(f'GCN Pearson Correlation: {GCN_pearson}')\n",
    "    # print(f'GAT Pearson Correlation: {GAT_pearson}')\n",
    "    # print(f'GCN Kendall Correlation: {GCN_kendall}')\n",
    "    # print(f'GAT Kendall Correlation: {GAT_kendall}')\n",
    "\n",
    "    average_demand = data.y[data.train_mask].mean()\n",
    "    naive_mse = mean_squared_error(data.y[data.test_mask].cpu().detach().numpy(), np.full(data.y[data.test_mask].shape, average_demand), squared=False)\n",
    "    naive_mse_lst.append(naive_mse)\n",
    "    i += 1\n"
   ]
  },
  {
   "cell_type": "code",
   "execution_count": 85,
   "metadata": {},
   "outputs": [
    {
     "data": {
      "text/plain": [
       "13"
      ]
     },
     "execution_count": 85,
     "metadata": {},
     "output_type": "execute_result"
    }
   ],
   "source": [
    "len(gcn_vloss_lst)"
   ]
  },
  {
   "cell_type": "code",
   "execution_count": 86,
   "metadata": {},
   "outputs": [],
   "source": [
    "data_dict = {\n",
    "    'GCN Validation Loss': gcn_vloss_lst,\n",
    "    'GCN Training Loss': gcn_tloss_lst,\n",
    "    'GAT Validation Loss': gat_vloss_lst,\n",
    "    'GAT Training Loss': gat_tloss_lst,\n",
    "    'GCN Test Loss': gcn_testloss_lst,\n",
    "    'GAT Test Loss': gat_testloss_lst,\n",
    "    'GCN RMSE': gcn_rmse_lst,\n",
    "    'GAT RMSE': gat_rmse_lst,\n",
    "    'GCN Pearson Correlation': gcn_pearson_lst,\n",
    "    'GAT Pearson Correlation': gat_pearson_lst,\n",
    "    'GCN Kendall Correlation': gcn_kendall_lst,\n",
    "    'GAT Kendall Correlation': gat_kendall_lst,\n",
    "    'Naive MSE': naive_mse_lst\n",
    "}\n"
   ]
  },
  {
   "cell_type": "code",
   "execution_count": 139,
   "metadata": {},
   "outputs": [
    {
     "data": {
      "text/plain": [
       "0.03212743718312684"
      ]
     },
     "execution_count": 139,
     "metadata": {},
     "output_type": "execute_result"
    }
   ],
   "source": [
    "gcn_kendall_lst[0].correlation"
   ]
  },
  {
   "cell_type": "code",
   "execution_count": 95,
   "metadata": {},
   "outputs": [
    {
     "data": {
      "text/plain": [
       "[82.5930404663086,\n",
       " 156.06398010253906,\n",
       " 101.68577575683594,\n",
       " 100.22688293457031,\n",
       " 92.4005355834961,\n",
       " 104.58889770507812,\n",
       " 87.83980560302734,\n",
       " 70.71910858154297,\n",
       " 82.80689239501953,\n",
       " 74.54288482666016,\n",
       " 82.38858032226562,\n",
       " 115.28025817871094,\n",
       " 127.6473388671875]"
      ]
     },
     "execution_count": 95,
     "metadata": {},
     "output_type": "execute_result"
    }
   ],
   "source": [
    "[x.item() for x in gcn_testloss_lst]"
   ]
  },
  {
   "cell_type": "code",
   "execution_count": 100,
   "metadata": {},
   "outputs": [],
   "source": [
    "df = pd.DataFrame({\n",
    "    'GCN Validation Loss': gcn_vloss_lst,\n",
    "    'GCN Training Loss': gcn_tloss_lst,\n",
    "    'GAT Validation Loss': gat_vloss_lst,\n",
    "    'GAT Training Loss': gat_tloss_lst,\n",
    "    'GCN Test Loss': [x.item() for x in gcn_testloss_lst],\n",
    "    'GAT Test Loss': [x.item() for x in gat_testloss_lst],\n",
    "    'GCN RMSE': gcn_rmse_lst,\n",
    "    'GAT RMSE': gat_rmse_lst,\n",
    "    'GCN Pearson Correlation': gcn_pearson_lst,\n",
    "    'GAT Pearson Correlation': gat_pearson_lst,\n",
    "    'GCN Kendall Correlation': gcn_kendall_lst,\n",
    "    'GAT Kendall Correlation': gat_kendall_lst,\n",
    "    'Naive MSE': naive_mse_lst\n",
    "})\n"
   ]
  },
  {
   "cell_type": "code",
   "execution_count": 118,
   "metadata": {},
   "outputs": [
    {
     "data": {
      "text/html": [
       "<div>\n",
       "<style scoped>\n",
       "    .dataframe tbody tr th:only-of-type {\n",
       "        vertical-align: middle;\n",
       "    }\n",
       "\n",
       "    .dataframe tbody tr th {\n",
       "        vertical-align: top;\n",
       "    }\n",
       "\n",
       "    .dataframe thead th {\n",
       "        text-align: right;\n",
       "    }\n",
       "</style>\n",
       "<table border=\"1\" class=\"dataframe\">\n",
       "  <thead>\n",
       "    <tr style=\"text-align: right;\">\n",
       "      <th></th>\n",
       "      <th>GCN Validation Loss</th>\n",
       "      <th>GCN Training Loss</th>\n",
       "      <th>GAT Validation Loss</th>\n",
       "      <th>GAT Training Loss</th>\n",
       "      <th>GCN Test Loss</th>\n",
       "      <th>GAT Test Loss</th>\n",
       "      <th>GCN RMSE</th>\n",
       "      <th>GAT RMSE</th>\n",
       "      <th>GCN Pearson Correlation</th>\n",
       "      <th>GAT Pearson Correlation</th>\n",
       "      <th>GCN Kendall Correlation</th>\n",
       "      <th>GAT Kendall Correlation</th>\n",
       "      <th>Naive MSE</th>\n",
       "    </tr>\n",
       "  </thead>\n",
       "  <tbody>\n",
       "    <tr>\n",
       "      <th>0</th>\n",
       "      <td>80.786369</td>\n",
       "      <td>75.367897</td>\n",
       "      <td>15.404597</td>\n",
       "      <td>15.083115</td>\n",
       "      <td>82.593040</td>\n",
       "      <td>13.418016</td>\n",
       "      <td>9.088072</td>\n",
       "      <td>3.663061</td>\n",
       "      <td>(-0.005031678817587823, 0.9204925871981983)</td>\n",
       "      <td>(0.47195434172140216, 2.3320367404661053e-23)</td>\n",
       "      <td>(0.03212743718312684, 0.35683912141120266)</td>\n",
       "      <td>(0.18069854213598832, 2.1907534855328953e-07)</td>\n",
       "      <td>4.137239</td>\n",
       "    </tr>\n",
       "    <tr>\n",
       "      <th>1</th>\n",
       "      <td>152.361282</td>\n",
       "      <td>157.347336</td>\n",
       "      <td>67.185555</td>\n",
       "      <td>68.382462</td>\n",
       "      <td>156.063980</td>\n",
       "      <td>68.600700</td>\n",
       "      <td>12.492557</td>\n",
       "      <td>8.282554</td>\n",
       "      <td>(0.19101646581255835, 4.470331536171664e-07)</td>\n",
       "      <td>(0.501405676905146, 4.443622161069172e-45)</td>\n",
       "      <td>(0.10927863034449381, 2.4075393372262846e-05)</td>\n",
       "      <td>(0.16714492218695684, 1.0493914252799394e-10)</td>\n",
       "      <td>9.560718</td>\n",
       "    </tr>\n",
       "    <tr>\n",
       "      <th>2</th>\n",
       "      <td>94.724586</td>\n",
       "      <td>96.844482</td>\n",
       "      <td>49.802460</td>\n",
       "      <td>45.912956</td>\n",
       "      <td>101.685776</td>\n",
       "      <td>45.536194</td>\n",
       "      <td>10.083937</td>\n",
       "      <td>6.748051</td>\n",
       "      <td>(0.1281308813297367, 0.0007289867367615492)</td>\n",
       "      <td>(0.42156144924688727, 3.447698740148198e-31)</td>\n",
       "      <td>(0.07872694538879924, 0.0023595597536521656)</td>\n",
       "      <td>(0.18758711655557975, 4.309472851783489e-13)</td>\n",
       "      <td>7.443776</td>\n",
       "    </tr>\n",
       "    <tr>\n",
       "      <th>3</th>\n",
       "      <td>89.079269</td>\n",
       "      <td>101.390366</td>\n",
       "      <td>42.032089</td>\n",
       "      <td>45.887329</td>\n",
       "      <td>100.226883</td>\n",
       "      <td>48.603859</td>\n",
       "      <td>10.011337</td>\n",
       "      <td>6.971647</td>\n",
       "      <td>(0.1496209625348237, 4.765617016849745e-05)</td>\n",
       "      <td>(0.4112620218002705, 2.7603143174215377e-31)</td>\n",
       "      <td>(0.08826428954984666, 0.000445215982023587)</td>\n",
       "      <td>(0.18565019745329303, 1.509056539819414e-13)</td>\n",
       "      <td>7.652159</td>\n",
       "    </tr>\n",
       "    <tr>\n",
       "      <th>4</th>\n",
       "      <td>96.391975</td>\n",
       "      <td>93.452148</td>\n",
       "      <td>43.544693</td>\n",
       "      <td>44.562378</td>\n",
       "      <td>92.400536</td>\n",
       "      <td>45.082619</td>\n",
       "      <td>9.612519</td>\n",
       "      <td>6.714359</td>\n",
       "      <td>(0.15042285225976065, 4.6600365602581596e-05)</td>\n",
       "      <td>(0.4437336963530267, 2.000620089717218e-36)</td>\n",
       "      <td>(0.08665027581925358, 0.0005975393954277547)</td>\n",
       "      <td>(0.23576971446611814, 9.61251674925391e-21)</td>\n",
       "      <td>7.479195</td>\n",
       "    </tr>\n",
       "    <tr>\n",
       "      <th>5</th>\n",
       "      <td>103.954369</td>\n",
       "      <td>99.037033</td>\n",
       "      <td>41.386799</td>\n",
       "      <td>44.957748</td>\n",
       "      <td>104.588898</td>\n",
       "      <td>47.200920</td>\n",
       "      <td>10.226871</td>\n",
       "      <td>6.870293</td>\n",
       "      <td>(0.1830700948543973, 8.745193334868589e-07)</td>\n",
       "      <td>(0.5234160845345861, 2.487539080044007e-51)</td>\n",
       "      <td>(0.09834634365085486, 0.0001143851754414654)</td>\n",
       "      <td>(0.24736107773431096, 2.919080333451329e-22)</td>\n",
       "      <td>8.035375</td>\n",
       "    </tr>\n",
       "    <tr>\n",
       "      <th>6</th>\n",
       "      <td>81.787262</td>\n",
       "      <td>88.088928</td>\n",
       "      <td>28.388975</td>\n",
       "      <td>33.054199</td>\n",
       "      <td>87.839806</td>\n",
       "      <td>33.911674</td>\n",
       "      <td>9.372290</td>\n",
       "      <td>5.823372</td>\n",
       "      <td>(0.19587661883875532, 2.9043929820946495e-08)</td>\n",
       "      <td>(0.46745501756942653, 4.431787008234224e-44)</td>\n",
       "      <td>(0.100269732443074, 4.04270642997841e-05)</td>\n",
       "      <td>(0.18381846324958137, 5.252067909881322e-14)</td>\n",
       "      <td>6.557995</td>\n",
       "    </tr>\n",
       "    <tr>\n",
       "      <th>7</th>\n",
       "      <td>78.609390</td>\n",
       "      <td>71.833656</td>\n",
       "      <td>29.684155</td>\n",
       "      <td>29.228073</td>\n",
       "      <td>70.719109</td>\n",
       "      <td>25.797934</td>\n",
       "      <td>8.409466</td>\n",
       "      <td>5.079166</td>\n",
       "      <td>(0.2267276149038831, 2.307374498851639e-10)</td>\n",
       "      <td>(0.5259934885087192, 1.398809285406174e-55)</td>\n",
       "      <td>(0.12059512579232488, 1.1413365532406225e-06)</td>\n",
       "      <td>(0.2421099642875629, 1.5412817770145804e-22)</td>\n",
       "      <td>5.972166</td>\n",
       "    </tr>\n",
       "    <tr>\n",
       "      <th>8</th>\n",
       "      <td>93.503937</td>\n",
       "      <td>90.368584</td>\n",
       "      <td>47.995113</td>\n",
       "      <td>47.284996</td>\n",
       "      <td>82.806892</td>\n",
       "      <td>48.201950</td>\n",
       "      <td>9.099830</td>\n",
       "      <td>6.942762</td>\n",
       "      <td>(0.27622207611469574, 8.231680450087378e-15)</td>\n",
       "      <td>(0.4618955170035156, 1.5570008792025662e-41)</td>\n",
       "      <td>(0.17341106085130656, 1.974445155705518e-12)</td>\n",
       "      <td>(0.22599572398657972, 4.733654265920126e-20)</td>\n",
       "      <td>7.832735</td>\n",
       "    </tr>\n",
       "    <tr>\n",
       "      <th>9</th>\n",
       "      <td>78.242058</td>\n",
       "      <td>78.026192</td>\n",
       "      <td>41.612400</td>\n",
       "      <td>42.337914</td>\n",
       "      <td>74.542885</td>\n",
       "      <td>40.973686</td>\n",
       "      <td>8.633822</td>\n",
       "      <td>6.401069</td>\n",
       "      <td>(0.16119917769250397, 6.22421834608526e-06)</td>\n",
       "      <td>(0.34159015365495665, 1.0287587896812533e-22)</td>\n",
       "      <td>(0.1071465585923039, 1.1633092351409582e-05)</td>\n",
       "      <td>(0.17963183058606308, 1.976239816820343e-13)</td>\n",
       "      <td>6.808980</td>\n",
       "    </tr>\n",
       "    <tr>\n",
       "      <th>10</th>\n",
       "      <td>88.345398</td>\n",
       "      <td>84.124153</td>\n",
       "      <td>32.507351</td>\n",
       "      <td>31.807138</td>\n",
       "      <td>82.388580</td>\n",
       "      <td>30.331562</td>\n",
       "      <td>9.076816</td>\n",
       "      <td>5.507410</td>\n",
       "      <td>(0.13931584347435697, 9.279051512176744e-05)</td>\n",
       "      <td>(0.41073602414110666, 3.501053051373925e-33)</td>\n",
       "      <td>(0.07343165474406595, 0.0027764380623487924)</td>\n",
       "      <td>(0.1822085520007378, 1.1464946629323975e-13)</td>\n",
       "      <td>6.033979</td>\n",
       "    </tr>\n",
       "    <tr>\n",
       "      <th>11</th>\n",
       "      <td>111.980255</td>\n",
       "      <td>104.121162</td>\n",
       "      <td>26.892584</td>\n",
       "      <td>28.619932</td>\n",
       "      <td>115.280258</td>\n",
       "      <td>35.568481</td>\n",
       "      <td>10.736864</td>\n",
       "      <td>5.963932</td>\n",
       "      <td>(0.08080487350829811, 0.038839502502938564)</td>\n",
       "      <td>(0.484683683516653, 7.86696535736295e-40)</td>\n",
       "      <td>(0.04236829252816039, 0.11411471483318847)</td>\n",
       "      <td>(0.2250222812911943, 4.805602188491114e-17)</td>\n",
       "      <td>6.817731</td>\n",
       "    </tr>\n",
       "    <tr>\n",
       "      <th>12</th>\n",
       "      <td>119.726204</td>\n",
       "      <td>121.344131</td>\n",
       "      <td>33.003075</td>\n",
       "      <td>32.197815</td>\n",
       "      <td>127.647339</td>\n",
       "      <td>33.308403</td>\n",
       "      <td>11.298113</td>\n",
       "      <td>5.771343</td>\n",
       "      <td>(0.10294124169083953, 0.008325733712307787)</td>\n",
       "      <td>(0.48452559532902906, 6.418517518855026e-40)</td>\n",
       "      <td>(0.048347277113031356, 0.07112256405579395)</td>\n",
       "      <td>(0.21683978812132998, 5.767174211517303e-16)</td>\n",
       "      <td>6.598017</td>\n",
       "    </tr>\n",
       "  </tbody>\n",
       "</table>\n",
       "</div>"
      ],
      "text/plain": [
       "    GCN Validation Loss  GCN Training Loss  GAT Validation Loss  \\\n",
       "0             80.786369          75.367897            15.404597   \n",
       "1            152.361282         157.347336            67.185555   \n",
       "2             94.724586          96.844482            49.802460   \n",
       "3             89.079269         101.390366            42.032089   \n",
       "4             96.391975          93.452148            43.544693   \n",
       "5            103.954369          99.037033            41.386799   \n",
       "6             81.787262          88.088928            28.388975   \n",
       "7             78.609390          71.833656            29.684155   \n",
       "8             93.503937          90.368584            47.995113   \n",
       "9             78.242058          78.026192            41.612400   \n",
       "10            88.345398          84.124153            32.507351   \n",
       "11           111.980255         104.121162            26.892584   \n",
       "12           119.726204         121.344131            33.003075   \n",
       "\n",
       "    GAT Training Loss  GCN Test Loss  GAT Test Loss   GCN RMSE  GAT RMSE  \\\n",
       "0           15.083115      82.593040      13.418016   9.088072  3.663061   \n",
       "1           68.382462     156.063980      68.600700  12.492557  8.282554   \n",
       "2           45.912956     101.685776      45.536194  10.083937  6.748051   \n",
       "3           45.887329     100.226883      48.603859  10.011337  6.971647   \n",
       "4           44.562378      92.400536      45.082619   9.612519  6.714359   \n",
       "5           44.957748     104.588898      47.200920  10.226871  6.870293   \n",
       "6           33.054199      87.839806      33.911674   9.372290  5.823372   \n",
       "7           29.228073      70.719109      25.797934   8.409466  5.079166   \n",
       "8           47.284996      82.806892      48.201950   9.099830  6.942762   \n",
       "9           42.337914      74.542885      40.973686   8.633822  6.401069   \n",
       "10          31.807138      82.388580      30.331562   9.076816  5.507410   \n",
       "11          28.619932     115.280258      35.568481  10.736864  5.963932   \n",
       "12          32.197815     127.647339      33.308403  11.298113  5.771343   \n",
       "\n",
       "                          GCN Pearson Correlation  \\\n",
       "0     (-0.005031678817587823, 0.9204925871981983)   \n",
       "1    (0.19101646581255835, 4.470331536171664e-07)   \n",
       "2     (0.1281308813297367, 0.0007289867367615492)   \n",
       "3     (0.1496209625348237, 4.765617016849745e-05)   \n",
       "4   (0.15042285225976065, 4.6600365602581596e-05)   \n",
       "5     (0.1830700948543973, 8.745193334868589e-07)   \n",
       "6   (0.19587661883875532, 2.9043929820946495e-08)   \n",
       "7     (0.2267276149038831, 2.307374498851639e-10)   \n",
       "8    (0.27622207611469574, 8.231680450087378e-15)   \n",
       "9     (0.16119917769250397, 6.22421834608526e-06)   \n",
       "10   (0.13931584347435697, 9.279051512176744e-05)   \n",
       "11    (0.08080487350829811, 0.038839502502938564)   \n",
       "12    (0.10294124169083953, 0.008325733712307787)   \n",
       "\n",
       "                          GAT Pearson Correlation  \\\n",
       "0   (0.47195434172140216, 2.3320367404661053e-23)   \n",
       "1      (0.501405676905146, 4.443622161069172e-45)   \n",
       "2    (0.42156144924688727, 3.447698740148198e-31)   \n",
       "3    (0.4112620218002705, 2.7603143174215377e-31)   \n",
       "4     (0.4437336963530267, 2.000620089717218e-36)   \n",
       "5     (0.5234160845345861, 2.487539080044007e-51)   \n",
       "6    (0.46745501756942653, 4.431787008234224e-44)   \n",
       "7     (0.5259934885087192, 1.398809285406174e-55)   \n",
       "8    (0.4618955170035156, 1.5570008792025662e-41)   \n",
       "9   (0.34159015365495665, 1.0287587896812533e-22)   \n",
       "10   (0.41073602414110666, 3.501053051373925e-33)   \n",
       "11      (0.484683683516653, 7.86696535736295e-40)   \n",
       "12   (0.48452559532902906, 6.418517518855026e-40)   \n",
       "\n",
       "                          GCN Kendall Correlation  \\\n",
       "0      (0.03212743718312684, 0.35683912141120266)   \n",
       "1   (0.10927863034449381, 2.4075393372262846e-05)   \n",
       "2    (0.07872694538879924, 0.0023595597536521656)   \n",
       "3     (0.08826428954984666, 0.000445215982023587)   \n",
       "4    (0.08665027581925358, 0.0005975393954277547)   \n",
       "5    (0.09834634365085486, 0.0001143851754414654)   \n",
       "6       (0.100269732443074, 4.04270642997841e-05)   \n",
       "7   (0.12059512579232488, 1.1413365532406225e-06)   \n",
       "8    (0.17341106085130656, 1.974445155705518e-12)   \n",
       "9    (0.1071465585923039, 1.1633092351409582e-05)   \n",
       "10   (0.07343165474406595, 0.0027764380623487924)   \n",
       "11     (0.04236829252816039, 0.11411471483318847)   \n",
       "12    (0.048347277113031356, 0.07112256405579395)   \n",
       "\n",
       "                          GAT Kendall Correlation  Naive MSE  \n",
       "0   (0.18069854213598832, 2.1907534855328953e-07)   4.137239  \n",
       "1   (0.16714492218695684, 1.0493914252799394e-10)   9.560718  \n",
       "2    (0.18758711655557975, 4.309472851783489e-13)   7.443776  \n",
       "3    (0.18565019745329303, 1.509056539819414e-13)   7.652159  \n",
       "4     (0.23576971446611814, 9.61251674925391e-21)   7.479195  \n",
       "5    (0.24736107773431096, 2.919080333451329e-22)   8.035375  \n",
       "6    (0.18381846324958137, 5.252067909881322e-14)   6.557995  \n",
       "7    (0.2421099642875629, 1.5412817770145804e-22)   5.972166  \n",
       "8    (0.22599572398657972, 4.733654265920126e-20)   7.832735  \n",
       "9    (0.17963183058606308, 1.976239816820343e-13)   6.808980  \n",
       "10   (0.1822085520007378, 1.1464946629323975e-13)   6.033979  \n",
       "11    (0.2250222812911943, 4.805602188491114e-17)   6.817731  \n",
       "12   (0.21683978812132998, 5.767174211517303e-16)   6.598017  "
      ]
     },
     "execution_count": 118,
     "metadata": {},
     "output_type": "execute_result"
    }
   ],
   "source": [
    "df"
   ]
  },
  {
   "cell_type": "code",
   "execution_count": 119,
   "metadata": {},
   "outputs": [],
   "source": [
    "df.to_csv('integrated_results.csv')"
   ]
  },
  {
   "cell_type": "code",
   "execution_count": 121,
   "metadata": {},
   "outputs": [
    {
     "data": {
      "text/plain": [
       "0     PearsonRResult(statistic=-0.005031678817587823...\n",
       "1     PearsonRResult(statistic=0.19101646581255835, ...\n",
       "2     PearsonRResult(statistic=0.1281308813297367, p...\n",
       "3     PearsonRResult(statistic=0.1496209625348237, p...\n",
       "4     PearsonRResult(statistic=0.15042285225976065, ...\n",
       "5     PearsonRResult(statistic=0.1830700948543973, p...\n",
       "6     PearsonRResult(statistic=0.19587661883875532, ...\n",
       "7     PearsonRResult(statistic=0.2267276149038831, p...\n",
       "8     PearsonRResult(statistic=0.27622207611469574, ...\n",
       "9     PearsonRResult(statistic=0.16119917769250397, ...\n",
       "10    PearsonRResult(statistic=0.13931584347435697, ...\n",
       "11    PearsonRResult(statistic=0.08080487350829811, ...\n",
       "12    PearsonRResult(statistic=0.10294124169083953, ...\n",
       "Name: GCN Pearson Correlation, dtype: object"
      ]
     },
     "execution_count": 121,
     "metadata": {},
     "output_type": "execute_result"
    }
   ],
   "source": [
    "test = pd.read_csv('integrated_results.csv')\n",
    "test['GCN Pearson Correlation']"
   ]
  },
  {
   "cell_type": "markdown",
   "metadata": {},
   "source": [
    "---\n",
    "# LOOCV for xbar1"
   ]
  },
  {
   "cell_type": "code",
   "execution_count": 140,
   "metadata": {},
   "outputs": [],
   "source": [
    "# feature engineering for 13 files\n",
    "loocv_datas = []\n",
    "for i in range(1, 14):\n",
    "    new_instances = pd.read_csv(str(i) + '_new_instances.csv')\n",
    "    edge_index = np.loadtxt(str(i) +'_edge_index.csv', delimiter=',')\n",
    "    # normalize xloc, yloc, congestion, width, height\n",
    "    # use one hot encoding for orient\n",
    "    onehotencoder = OneHotEncoder()\n",
    "    orient = onehotencoder.fit_transform(new_instances[['orient']]).toarray()\n",
    "\n",
    "    scaler = MinMaxScaler()\n",
    "    node_features = scaler.fit_transform(new_instances[['xloc', 'yloc', 'width', 'GRC_density', 'node_degree']])\n",
    "    node_features = np.concatenate((node_features, orient), axis=1)\n",
    "    demand = new_instances[['routing_demand']].values\n",
    "    edge_index = torch.tensor(edge_index, dtype=torch.long)\n",
    "    x = torch.tensor(node_features, dtype=torch.float)\n",
    "    y = torch.tensor(demand, dtype=torch.float)\n",
    "\n",
    "    data = Data(x=x, edge_index=edge_index, y=y)\n",
    "    loocv_datas.append(data)"
   ]
  },
  {
   "cell_type": "code",
   "execution_count": 141,
   "metadata": {},
   "outputs": [
    {
     "data": {
      "text/plain": [
       "[Data(x=[3952, 9], edge_index=[2, 141472], y=[3952, 1]),\n",
       " Data(x=[6872, 9], edge_index=[2, 115420], y=[6872, 1]),\n",
       " Data(x=[6913, 9], edge_index=[2, 126081], y=[6913, 1]),\n",
       " Data(x=[7323, 9], edge_index=[2, 120929], y=[7323, 1]),\n",
       " Data(x=[7258, 9], edge_index=[2, 121094], y=[7258, 1]),\n",
       " Data(x=[7120, 9], edge_index=[2, 116592], y=[7120, 1]),\n",
       " Data(x=[7879, 9], edge_index=[2, 122335], y=[7879, 1]),\n",
       " Data(x=[7626, 9], edge_index=[2, 119388], y=[7626, 1]),\n",
       " Data(x=[7620, 9], edge_index=[2, 119652], y=[7620, 1]),\n",
       " Data(x=[7772, 9], edge_index=[2, 121838], y=[7772, 1]),\n",
       " Data(x=[7814, 9], edge_index=[2, 115804], y=[7814, 1]),\n",
       " Data(x=[6529, 9], edge_index=[2, 115553], y=[6529, 1]),\n",
       " Data(x=[6548, 9], edge_index=[2, 113626], y=[6548, 1])]"
      ]
     },
     "execution_count": 141,
     "metadata": {},
     "output_type": "execute_result"
    }
   ],
   "source": [
    "loocv_datas"
   ]
  },
  {
   "cell_type": "code",
   "execution_count": 142,
   "metadata": {},
   "outputs": [],
   "source": [
    "loop_gcn_tloss_lst = []\n",
    "loop_gat_tloss_lst = []\n",
    "loop_gcn_testloss_lst = []\n",
    "loop_gat_testloss_lst = []\n",
    "loop_gcn_rmse_lst = []\n",
    "loop_gat_rmse_lst = []\n",
    "loop_gcn_pearson_lst = []\n",
    "loop_gat_pearson_lst = []\n",
    "loop_gcn_kendall_lst = []\n",
    "loop_gat_kendall_lst = []\n",
    "loop_naive_mse_lst = [] "
   ]
  },
  {
   "cell_type": "code",
   "execution_count": 143,
   "metadata": {},
   "outputs": [
    {
     "name": "stdout",
     "output_type": "stream",
     "text": [
      "1\n",
      "2\n",
      "3\n",
      "4\n",
      "5\n",
      "6\n",
      "7\n",
      "8\n",
      "9\n",
      "10\n",
      "11\n",
      "12\n"
     ]
    }
   ],
   "source": [
    "for i in range(1, 13):\n",
    "    print(i)"
   ]
  },
  {
   "cell_type": "code",
   "execution_count": 144,
   "metadata": {},
   "outputs": [
    {
     "data": {
      "text/plain": [
       "Data(x=[3952, 9], edge_index=[2, 141472], y=[3952, 1])"
      ]
     },
     "execution_count": 144,
     "metadata": {},
     "output_type": "execute_result"
    }
   ],
   "source": [
    "test_file = loocv_datas[0]\n",
    "test_file"
   ]
  },
  {
   "cell_type": "code",
   "execution_count": 145,
   "metadata": {},
   "outputs": [
    {
     "data": {
      "text/plain": [
       "[Data(x=[6872, 9], edge_index=[2, 115420], y=[6872, 1]),\n",
       " Data(x=[6913, 9], edge_index=[2, 126081], y=[6913, 1]),\n",
       " Data(x=[7323, 9], edge_index=[2, 120929], y=[7323, 1]),\n",
       " Data(x=[7258, 9], edge_index=[2, 121094], y=[7258, 1]),\n",
       " Data(x=[7120, 9], edge_index=[2, 116592], y=[7120, 1]),\n",
       " Data(x=[7879, 9], edge_index=[2, 122335], y=[7879, 1]),\n",
       " Data(x=[7626, 9], edge_index=[2, 119388], y=[7626, 1]),\n",
       " Data(x=[7620, 9], edge_index=[2, 119652], y=[7620, 1]),\n",
       " Data(x=[7772, 9], edge_index=[2, 121838], y=[7772, 1]),\n",
       " Data(x=[7814, 9], edge_index=[2, 115804], y=[7814, 1]),\n",
       " Data(x=[6529, 9], edge_index=[2, 115553], y=[6529, 1]),\n",
       " Data(x=[6548, 9], edge_index=[2, 113626], y=[6548, 1])]"
      ]
     },
     "execution_count": 145,
     "metadata": {},
     "output_type": "execute_result"
    }
   ],
   "source": [
    "train_files = loocv_datas[1:]\n",
    "train_files"
   ]
  },
  {
   "cell_type": "code",
   "execution_count": 146,
   "metadata": {},
   "outputs": [
    {
     "name": "stdout",
     "output_type": "stream",
     "text": [
      "1\n",
      "2\n",
      "3\n"
     ]
    },
    {
     "ename": "KeyboardInterrupt",
     "evalue": "",
     "output_type": "error",
     "traceback": [
      "\u001b[0;31m---------------------------------------------------------------------------\u001b[0m",
      "\u001b[0;31mKeyboardInterrupt\u001b[0m                         Traceback (most recent call last)",
      "Cell \u001b[0;32mIn [146], line 44\u001b[0m\n\u001b[1;32m     42\u001b[0m GAT_out \u001b[38;5;241m=\u001b[39m GAT_model(data)\n\u001b[1;32m     43\u001b[0m GAT_loss \u001b[38;5;241m=\u001b[39m F\u001b[38;5;241m.\u001b[39mmse_loss(GAT_out, data\u001b[38;5;241m.\u001b[39my\u001b[38;5;241m.\u001b[39mview(\u001b[38;5;241m-\u001b[39m\u001b[38;5;241m1\u001b[39m, \u001b[38;5;241m1\u001b[39m))\n\u001b[0;32m---> 44\u001b[0m GAT_loss\u001b[38;5;241m.\u001b[39mbackward()\n\u001b[1;32m     45\u001b[0m GAT_optimizer\u001b[38;5;241m.\u001b[39mstep()\n\u001b[1;32m     46\u001b[0m GAT_loss_values\u001b[38;5;241m.\u001b[39mappend(GAT_loss\u001b[38;5;241m.\u001b[39mitem())\n",
      "File \u001b[0;32m/Applications/anaconda3/envs/dsc80/lib/python3.8/site-packages/torch/_tensor.py:488\u001b[0m, in \u001b[0;36mTensor.backward\u001b[0;34m(self, gradient, retain_graph, create_graph, inputs)\u001b[0m\n\u001b[1;32m    478\u001b[0m \u001b[38;5;28;01mif\u001b[39;00m has_torch_function_unary(\u001b[38;5;28mself\u001b[39m):\n\u001b[1;32m    479\u001b[0m     \u001b[38;5;28;01mreturn\u001b[39;00m handle_torch_function(\n\u001b[1;32m    480\u001b[0m         Tensor\u001b[38;5;241m.\u001b[39mbackward,\n\u001b[1;32m    481\u001b[0m         (\u001b[38;5;28mself\u001b[39m,),\n\u001b[0;32m   (...)\u001b[0m\n\u001b[1;32m    486\u001b[0m         inputs\u001b[38;5;241m=\u001b[39minputs,\n\u001b[1;32m    487\u001b[0m     )\n\u001b[0;32m--> 488\u001b[0m \u001b[43mtorch\u001b[49m\u001b[38;5;241;43m.\u001b[39;49m\u001b[43mautograd\u001b[49m\u001b[38;5;241;43m.\u001b[39;49m\u001b[43mbackward\u001b[49m\u001b[43m(\u001b[49m\n\u001b[1;32m    489\u001b[0m \u001b[43m    \u001b[49m\u001b[38;5;28;43mself\u001b[39;49m\u001b[43m,\u001b[49m\u001b[43m \u001b[49m\u001b[43mgradient\u001b[49m\u001b[43m,\u001b[49m\u001b[43m \u001b[49m\u001b[43mretain_graph\u001b[49m\u001b[43m,\u001b[49m\u001b[43m \u001b[49m\u001b[43mcreate_graph\u001b[49m\u001b[43m,\u001b[49m\u001b[43m \u001b[49m\u001b[43minputs\u001b[49m\u001b[38;5;241;43m=\u001b[39;49m\u001b[43minputs\u001b[49m\n\u001b[1;32m    490\u001b[0m \u001b[43m\u001b[49m\u001b[43m)\u001b[49m\n",
      "File \u001b[0;32m/Applications/anaconda3/envs/dsc80/lib/python3.8/site-packages/torch/autograd/__init__.py:197\u001b[0m, in \u001b[0;36mbackward\u001b[0;34m(tensors, grad_tensors, retain_graph, create_graph, grad_variables, inputs)\u001b[0m\n\u001b[1;32m    192\u001b[0m     retain_graph \u001b[38;5;241m=\u001b[39m create_graph\n\u001b[1;32m    194\u001b[0m \u001b[38;5;66;03m# The reason we repeat same the comment below is that\u001b[39;00m\n\u001b[1;32m    195\u001b[0m \u001b[38;5;66;03m# some Python versions print out the first line of a multi-line function\u001b[39;00m\n\u001b[1;32m    196\u001b[0m \u001b[38;5;66;03m# calls in the traceback and some print out the last line\u001b[39;00m\n\u001b[0;32m--> 197\u001b[0m \u001b[43mVariable\u001b[49m\u001b[38;5;241;43m.\u001b[39;49m\u001b[43m_execution_engine\u001b[49m\u001b[38;5;241;43m.\u001b[39;49m\u001b[43mrun_backward\u001b[49m\u001b[43m(\u001b[49m\u001b[43m  \u001b[49m\u001b[38;5;66;43;03m# Calls into the C++ engine to run the backward pass\u001b[39;49;00m\n\u001b[1;32m    198\u001b[0m \u001b[43m    \u001b[49m\u001b[43mtensors\u001b[49m\u001b[43m,\u001b[49m\u001b[43m \u001b[49m\u001b[43mgrad_tensors_\u001b[49m\u001b[43m,\u001b[49m\u001b[43m \u001b[49m\u001b[43mretain_graph\u001b[49m\u001b[43m,\u001b[49m\u001b[43m \u001b[49m\u001b[43mcreate_graph\u001b[49m\u001b[43m,\u001b[49m\u001b[43m \u001b[49m\u001b[43minputs\u001b[49m\u001b[43m,\u001b[49m\n\u001b[1;32m    199\u001b[0m \u001b[43m    \u001b[49m\u001b[43mallow_unreachable\u001b[49m\u001b[38;5;241;43m=\u001b[39;49m\u001b[38;5;28;43;01mTrue\u001b[39;49;00m\u001b[43m,\u001b[49m\u001b[43m \u001b[49m\u001b[43maccumulate_grad\u001b[49m\u001b[38;5;241;43m=\u001b[39;49m\u001b[38;5;28;43;01mTrue\u001b[39;49;00m\u001b[43m)\u001b[49m\n",
      "\u001b[0;31mKeyboardInterrupt\u001b[0m: "
     ]
    },
    {
     "data": {
      "text/plain": [
       "<Figure size 640x480 with 0 Axes>"
      ]
     },
     "metadata": {},
     "output_type": "display_data"
    },
    {
     "data": {
      "text/plain": [
       "<Figure size 1000x500 with 0 Axes>"
      ]
     },
     "metadata": {},
     "output_type": "display_data"
    },
    {
     "data": {
      "text/plain": [
       "<Figure size 1000x500 with 0 Axes>"
      ]
     },
     "metadata": {},
     "output_type": "display_data"
    },
    {
     "data": {
      "text/plain": [
       "<Figure size 1000x500 with 0 Axes>"
      ]
     },
     "metadata": {},
     "output_type": "display_data"
    },
    {
     "data": {
      "image/png": "[encoded data removed]",
      "text/plain": [
       "<Figure size 1000x500 with 1 Axes>"
      ]
     },
     "metadata": {},
     "output_type": "display_data"
    }
   ],
   "source": [
    "# set random seed\n",
    "count = 1\n",
    "for i in range(1, 13):\n",
    "    print(i)\n",
    "    val_set = train_files[i]\n",
    "    train_set = train_files[1:i] + train_files[i+1:]  \n",
    "    torch.manual_seed(0)\n",
    "\n",
    "    #GCN model\n",
    "    device = torch.device('cuda' if torch.cuda.is_available() else 'cpu')\n",
    "    GCN_model = GCN(in_channels=9, hidden_channels=9, out_channels=1, dropout=0).to(device)\n",
    "    GCN_optimizer = torch.optim.Adam(GCN_model.parameters(), lr=0.005, weight_decay=5e-4)\n",
    "\n",
    "    GCN_loss_values = []\n",
    "\n",
    "    GCN_model.train()\n",
    "    for epoch in range(150):\n",
    "        total_loss = 0\n",
    "        for data in train_set:\n",
    "            GCN_optimizer.zero_grad()\n",
    "            GCN_out = GCN_model(data)\n",
    "            GCN_loss = F.mse_loss(GCN_out, data.y.view(-1, 1))\n",
    "            GCN_loss.backward()\n",
    "            GCN_optimizer.step()\n",
    "            GCN_loss_values.append(GCN_loss.item())\n",
    "            # print(f'Epoch {epoch+1}, Loss: {GCN_loss.item()}')\n",
    "    avg_loss = sum(GCN_loss_values) / len(train_set)\n",
    "    loop_gcn_tloss_lst.append(avg_loss)\n",
    "\n",
    "    #GAT model\n",
    "    device = torch.device('cuda' if torch.cuda.is_available() else 'cpu')\n",
    "    GAT_model = GAT(in_channels=9, hidden_channels=9, out_channels=1, heads=9, dropout=0).to(device)\n",
    "    GAT_optimizer = torch.optim.Adam(GAT_model.parameters(), lr=0.005, weight_decay=5e-4)\n",
    "\n",
    "    GAT_loss_values = []\n",
    "\n",
    "    GAT_model.train()\n",
    "    for epoch in range(150):\n",
    "        total_loss = 0\n",
    "        for data in train_set:\n",
    "            GAT_optimizer.zero_grad()\n",
    "            GAT_out = GAT_model(data)\n",
    "            GAT_loss = F.mse_loss(GAT_out, data.y.view(-1, 1))\n",
    "            GAT_loss.backward()\n",
    "            GAT_optimizer.step()\n",
    "            GAT_loss_values.append(GAT_loss.item())\n",
    "        # print(f'Epoch {epoch+1}, Loss: {GAT_loss.item()}')\n",
    "    avg_loss = sum(GAT_loss_values) / len(train_set)\n",
    "    loop_gat_tloss_lst.append(avg_loss)\n",
    "\n",
    "    # Evaluate the model\n",
    "    GCN_model.eval()\n",
    "    GCN_out = GCN_model(test_file)\n",
    "    GCN_loss = F.mse_loss(GCN_out, test_file.y.view_as(GCN_out))\n",
    "    # print(f'GCN_Test Loss: {GCN_loss.item()}')\n",
    "    loop_gcn_testloss_lst.append(GCN_loss)\n",
    "    \n",
    "    GAT_model.eval()\n",
    "    GAT_out = GAT_model(test_file)\n",
    "    GAT_loss = F.mse_loss(GAT_out, test_file.y.view_as(GAT_out))\n",
    "    # print(f'GAT_Test Loss: {GAT_loss.item()}')\n",
    "    loop_gat_testloss_lst.append(GAT_loss)\n",
    "\n",
    "    # plot the distribution of original congestion and predicted congestion\n",
    "    plt.clf()\n",
    "    plt.figure(figsize=(10, 5))\n",
    "    sns.histplot(test_file.y.cpu().detach().numpy(), kde=True, label='Ground Truth Demand', stat=\"density\", color='blue')\n",
    "    sns.histplot(GCN_out.cpu().detach().numpy().flatten(), kde=True, label='Predicted Demand', stat=\"density\", color='red')\n",
    "    plt.xlabel('Demand')\n",
    "    plt.ylabel('Frequency')\n",
    "    plt.title(f'GCN Prediction vs Ground Truth {i}')\n",
    "    plt.legend()\n",
    "    plt.savefig(f\"loop_gcn_hist/{i}.png\")\n",
    "    # plt.show()\n",
    "\n",
    "    plt.clf()\n",
    "    plt.figure(figsize=(10, 5))\n",
    "    sns.histplot(test_file.y.cpu().detach().numpy(), kde=True, label='Ground Truth Demand', stat=\"density\", color='blue')\n",
    "    sns.histplot(GAT_out.cpu().detach().numpy().flatten(), kde=True, label='Predicted Demand', stat=\"density\", color='red')\n",
    "    plt.xlabel('Congestion')\n",
    "    plt.ylabel('Frequency')\n",
    "    plt.title(f'GAT Prediction vs Ground Truth {i}')\n",
    "    plt.legend()\n",
    "    plt.savefig(f\"loop_gat_hist/{i}.png\")\n",
    "    # plt.show()\n",
    "\n",
    "    plt.clf()\n",
    "    plt.scatter(test_file.y.cpu().detach().numpy(), GCN_out.cpu().detach().numpy(), alpha=0.5)\n",
    "    plt.xlabel('Ground Truth Demand')\n",
    "    plt.ylabel('Predicted Demand')\n",
    "    plt.title(f'GCN Prediction vs Ground Truth {i}')\n",
    "    plt.savefig(f\"loop_gcn_scatter/{i}.png\")\n",
    "    # plt.show()\n",
    "\n",
    "    plt.clf()\n",
    "    plt.scatter(test_file.y.cpu().detach().numpy(), GAT_out.cpu().detach().numpy(), alpha=0.5)\n",
    "    plt.xlabel('Ground Truth Demand')\n",
    "    plt.ylabel('Predicted Demand')\n",
    "    plt.title(f'GAT Prediction vs Ground Truth {i}')\n",
    "    plt.savefig(f\"loop_gat_scatter/{i}.pdf\")\n",
    "\n",
    "    # calculate Pearson correlation coefficient, kendall correlation coefficient, and test RMSE\n",
    "    from sklearn.metrics import mean_squared_error\n",
    "    from scipy.stats import pearsonr, kendalltau\n",
    "\n",
    "    GCN_rmse = mean_squared_error(test_file.y.cpu().detach().numpy(), GCN_out.cpu().detach().numpy(), squared=False)\n",
    "    GAT_rmse = mean_squared_error(test_file.y.cpu().detach().numpy(), GAT_out.cpu().detach().numpy(), squared=False)\n",
    "    loop_gcn_rmse_lst.append(GCN_rmse)\n",
    "    loop_gat_rmse_lst.append(GAT_rmse)\n",
    "    \n",
    "    GCN_pearson = pearsonr(test_file.y.cpu().detach().numpy().flatten(), GCN_out.cpu().detach().numpy().flatten())\n",
    "    GAT_pearson = pearsonr(test_file.y.cpu().detach().numpy().flatten(), GAT_out.cpu().detach().numpy().flatten())\n",
    "    loop_gcn_pearson_lst.append(GCN_pearson.statistic)\n",
    "    loop_gat_pearson_lst.append(GAT_pearson.statistic)\n",
    "\n",
    "    GCN_kendall = kendalltau(test_file.y.cpu().detach().numpy().flatten(), GCN_out.cpu().detach().numpy().flatten())\n",
    "    GAT_kendall = kendalltau(test_file.y.cpu().detach().numpy().flatten(), GAT_out.cpu().detach().numpy().flatten())\n",
    "    loop_gcn_kendall_lst.append(GCN_kendall.correlation)\n",
    "    loop_gat_kendall_lst.append(GAT_kendall.correlation)\n",
    "\n",
    "    average_demand = test_file.y.mean()\n",
    "    naive_mse = mean_squared_error(test_file.y.cpu().detach().numpy(), np.full(test_file.y.shape, average_demand), squared=False)\n",
    "    loop_naive_mse_lst.append(naive_mse)\n"
   ]
  },
  {
   "cell_type": "code",
   "execution_count": 148,
   "metadata": {},
   "outputs": [
    {
     "data": {
      "text/plain": [
       "[11.90242, 11.038518]"
      ]
     },
     "execution_count": 148,
     "metadata": {},
     "output_type": "execute_result"
    }
   ],
   "source": [
    "loop_gcn_rmse_lst"
   ]
  },
  {
   "cell_type": "code",
   "execution_count": 149,
   "metadata": {},
   "outputs": [
    {
     "data": {
      "text/plain": [
       "[14.917875, 13.7802515]"
      ]
     },
     "execution_count": 149,
     "metadata": {},
     "output_type": "execute_result"
    }
   ],
   "source": [
    "loop_gat_rmse_lst\n"
   ]
  },
  {
   "cell_type": "code",
   "execution_count": 150,
   "metadata": {},
   "outputs": [
    {
     "data": {
      "text/plain": [
       "[-0.16994671958125016, -0.18285738441825972]"
      ]
     },
     "execution_count": 150,
     "metadata": {},
     "output_type": "execute_result"
    }
   ],
   "source": [
    "loop_gcn_pearson_lst"
   ]
  },
  {
   "cell_type": "code",
   "execution_count": 153,
   "metadata": {},
   "outputs": [
    {
     "data": {
      "text/plain": [
       "[0.5543643870275674, 0.5547825699792749]"
      ]
     },
     "execution_count": 153,
     "metadata": {},
     "output_type": "execute_result"
    }
   ],
   "source": [
    "loop_gat_pearson_lst"
   ]
  },
  {
   "cell_type": "code",
   "execution_count": 152,
   "metadata": {},
   "outputs": [
    {
     "data": {
      "text/plain": [
       "[-0.12920309713936942, -0.12464506141000994]"
      ]
     },
     "execution_count": 152,
     "metadata": {},
     "output_type": "execute_result"
    }
   ],
   "source": [
    "loop_gcn_kendall_lst"
   ]
  },
  {
   "cell_type": "code",
   "execution_count": 151,
   "metadata": {},
   "outputs": [
    {
     "data": {
      "text/plain": [
       "[0.14963621623875656, 0.14923704173600383]"
      ]
     },
     "execution_count": 151,
     "metadata": {},
     "output_type": "execute_result"
    }
   ],
   "source": [
    "loop_gat_kendall_lst"
   ]
  },
  {
   "cell_type": "code",
   "execution_count": null,
   "metadata": {},
   "outputs": [],
   "source": []
  }
 ],
 "metadata": {
  "kernelspec": {
   "display_name": "dsc80",
   "language": "python",
   "name": "python3"
  },
  "language_info": {
   "codemirror_mode": {
    "name": "ipython",
    "version": 3
   },
   "file_extension": ".py",
   "mimetype": "text/x-python",
   "name": "python",
   "nbconvert_exporter": "python",
   "pygments_lexer": "ipython3",
   "version": "3.8.17"
  }
 },
 "nbformat": 4,
 "nbformat_minor": 2
}
